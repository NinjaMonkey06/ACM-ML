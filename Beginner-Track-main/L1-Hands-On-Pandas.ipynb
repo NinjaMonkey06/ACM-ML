{
  "cells": [
    {
      "cell_type": "markdown",
      "id": "a9f774ad",
      "metadata": {
        "id": "a9f774ad"
      },
      "source": [
        "# Pandas Lecture\n"
      ]
    },
    {
      "cell_type": "markdown",
      "id": "58115149",
      "metadata": {
        "id": "58115149"
      },
      "source": [
        "## 1. Pandas Introduction\n",
        "Pandas is a Python library useful for handling and analyzing data structures, particularly bidimensional tables and time series. It provides useful data structures like **Series** and **DataFrames**."
      ]
    },
    {
      "cell_type": "code",
      "source": [
        "import pandas as pd"
      ],
      "metadata": {
        "id": "jMZ1txXxMZL9"
      },
      "id": "jMZ1txXxMZL9",
      "execution_count": 1,
      "outputs": []
    },
    {
      "cell_type": "markdown",
      "id": "c23a83e5",
      "metadata": {
        "id": "c23a83e5"
      },
      "source": [
        "## 2. Pandas Series\n",
        "A `Series` is a 1-dimensional sequence of homogeneous elements (i.e., all with the same type) associated\n",
        "with an explicit index. Index elements can be either strings or integers. The main difference with respect\n",
        "to a `1-dimensional array` is that each element is associated with an `index`. You can use the index to access\n",
        "the associated array element. The `index` can be `numerical or textual` (e.g., timestamp, date, etc.)."
      ]
    },
    {
      "cell_type": "markdown",
      "source": [
        "![image.png](data:image/png;base64,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)"
      ],
      "metadata": {
        "id": "I2MYBFMXYOFC"
      },
      "id": "I2MYBFMXYOFC"
    },
    {
      "cell_type": "markdown",
      "id": "6cf5c808",
      "metadata": {
        "id": "6cf5c808"
      },
      "source": [
        "### 2.1 Pandas Series Creation\n",
        "\n",
        "There are many ways to create a Series. You should specify the values and the index of the series. If the index is not specified, it is set automatically with a progressive number."
      ]
    },
    {
      "cell_type": "markdown",
      "id": "50627d91",
      "metadata": {
        "id": "50627d91"
      },
      "source": [
        "#### 2.1.1 Series from List\n",
        "\n",
        "You can create a Series directly from a Python list. If you do not specify the index, it will automatically\n",
        "create a progressive number starting from 0:"
      ]
    },
    {
      "cell_type": "code",
      "execution_count": 2,
      "id": "a2bb789b",
      "metadata": {
        "colab": {
          "base_uri": "https://localhost:8080/"
        },
        "id": "a2bb789b",
        "outputId": "3cd5309a-9ad4-4f77-b363-64c071e678ca"
      },
      "outputs": [
        {
          "output_type": "stream",
          "name": "stdout",
          "text": [
            "0    2.0\n",
            "1    3.1\n",
            "2    4.5\n",
            "dtype: float64\n"
          ]
        }
      ],
      "source": [
        "s1 = pd.Series([2.0, 3.1, 4.5])\n",
        "print(s1)"
      ]
    },
    {
      "cell_type": "markdown",
      "source": [
        "If you want, you can specify the index by passing a list to the index parameter:"
      ],
      "metadata": {
        "id": "-2DO5zFyMK6-"
      },
      "id": "-2DO5zFyMK6-"
    },
    {
      "cell_type": "code",
      "source": [
        "s1 = pd.Series([2.0 , 3.1 , 4.5] , index =[ 'a','b','c'])\n",
        "print(s1)"
      ],
      "metadata": {
        "colab": {
          "base_uri": "https://localhost:8080/"
        },
        "id": "A69GlNQFML4O",
        "outputId": "0dc306f5-088a-45c2-9851-c391ec44ab3f"
      },
      "id": "A69GlNQFML4O",
      "execution_count": 3,
      "outputs": [
        {
          "output_type": "stream",
          "name": "stdout",
          "text": [
            "a    2.0\n",
            "b    3.1\n",
            "c    4.5\n",
            "dtype: float64\n"
          ]
        }
      ]
    },
    {
      "cell_type": "markdown",
      "id": "b77a1538",
      "metadata": {
        "id": "b77a1538"
      },
      "source": [
        "#### 2.1.2 Series from Dictionary\n",
        "\n",
        "You can create a Series also from a Python dictionary. In this case, the keys of the dictionary define the index of the Series, while the values of the dictionary define the values of the Series. The order of the elements in the dictionary is preserved when creating the series (i.e., the first key of the dictionary is the first index in the Series)."
      ]
    },
    {
      "cell_type": "code",
      "execution_count": 4,
      "id": "be03603d",
      "metadata": {
        "colab": {
          "base_uri": "https://localhost:8080/"
        },
        "id": "be03603d",
        "outputId": "b587519b-80d1-41e9-c25f-cff6c5d25611"
      },
      "outputs": [
        {
          "output_type": "stream",
          "name": "stdout",
          "text": [
            "a    2.0\n",
            "b    3.1\n",
            "c    4.5\n",
            "dtype: float64\n"
          ]
        }
      ],
      "source": [
        "s1 = pd.Series({'a': 2.0, 'b': 3.1, 'c': 4.5})\n",
        "print(s1)"
      ]
    },
    {
      "cell_type": "markdown",
      "id": "29c1ca2c",
      "metadata": {
        "id": "29c1ca2c"
      },
      "source": [
        "### 2.2 Accessing Series Elements\n",
        "\n",
        "You can access elements of a series by specifying the following:\n",
        "\n",
        "\n",
        "\n",
        "*   Explicit index: using the explicit index specified while creating the series (with the `Series.loc[]` attribute).\n",
        "*   Implicit index: using the position (i.e., the number) associated with the element order (similarly to Numpy arrays) (with the `Series.iloc[]` attribute).\n",
        "\n"
      ]
    },
    {
      "cell_type": "markdown",
      "id": "84058856",
      "metadata": {
        "id": "84058856"
      },
      "source": [
        "#### 2.2.1 Accessing by Explicit Index\n",
        "\n",
        "To access an element of the Series by specifying the explicit index, you can use the `loc[]` method of the\n",
        "series and specify the index inside the square brackets (`s1.loc[index]`)."
      ]
    },
    {
      "cell_type": "code",
      "execution_count": 5,
      "id": "56dc26c9",
      "metadata": {
        "colab": {
          "base_uri": "https://localhost:8080/"
        },
        "id": "56dc26c9",
        "outputId": "8e44ae30-e3e4-43c5-aa82-b4908511aceb"
      },
      "outputs": [
        {
          "output_type": "stream",
          "name": "stdout",
          "text": [
            "3.1\n"
          ]
        }
      ],
      "source": [
        "s1 = pd.Series([2.0, 3.1, 4.5], index=['a', 'b', 'c'])\n",
        "el = s1.loc['b']\n",
        "print(el)"
      ]
    },
    {
      "cell_type": "markdown",
      "id": "06d4c7d7",
      "metadata": {
        "id": "06d4c7d7"
      },
      "source": [
        "#### 2.2.2 Accessing Series elements by position (implicit index)\n",
        "\n",
        "To access an element of the Series by specifying the position (implicit index), you can use the `iloc[]`\n",
        "method of the series and specify the position inside the square brackets (`s1.iloc[position]`)."
      ]
    },
    {
      "cell_type": "code",
      "execution_count": 6,
      "id": "37b5639d",
      "metadata": {
        "colab": {
          "base_uri": "https://localhost:8080/"
        },
        "id": "37b5639d",
        "outputId": "b47b36a3-542c-4778-fde6-83b8fb603733"
      },
      "outputs": [
        {
          "output_type": "stream",
          "name": "stdout",
          "text": [
            "3.1\n"
          ]
        }
      ],
      "source": [
        "s1 = pd.Series([2.0 , 3.1 , 4.5] , index =[ 'a','b','c'])\n",
        "el = s1.iloc[1]\n",
        "print(el)"
      ]
    },
    {
      "cell_type": "markdown",
      "id": "1357dfce",
      "metadata": {
        "id": "1357dfce"
      },
      "source": [
        "#### 2.2.3 Accessing All Values and Index\n",
        "\n",
        "You can obtain the values and the index of a Series with the `values` and `index` attributes of the Series\n",
        "object. Notice that the values are a Numpy array. Instead, the Index is a custom Python object defined\n",
        "in Pandas that allows you to perform more complex operations (e.g., union, intersection, etc. of series)."
      ]
    },
    {
      "cell_type": "code",
      "source": [
        "s1 = pd.Series([2.0 , 3.1 , 4.5] , index =[ 'a','b','c'])"
      ],
      "metadata": {
        "id": "tW50NIHJM-Ld"
      },
      "id": "tW50NIHJM-Ld",
      "execution_count": 7,
      "outputs": []
    },
    {
      "cell_type": "code",
      "execution_count": 8,
      "id": "a4209a1d",
      "metadata": {
        "colab": {
          "base_uri": "https://localhost:8080/"
        },
        "id": "a4209a1d",
        "outputId": "6ca37f43-c0df-4b27-a52b-b5cdb7a82344"
      },
      "outputs": [
        {
          "output_type": "stream",
          "name": "stdout",
          "text": [
            "[2.  3.1 4.5]\n",
            "Index(['a', 'b', 'c'], dtype='object')\n"
          ]
        }
      ],
      "source": [
        "print(s1.values)\n",
        "print(s1.index)"
      ]
    },
    {
      "cell_type": "markdown",
      "id": "91621413",
      "metadata": {
        "id": "91621413"
      },
      "source": [
        "#### 2.2.4 Assigning Values to Elements\n",
        "\n",
        "You can also use `.loc[]` and `.iloc[]` to assign values to elements and modify the Series inplace:"
      ]
    },
    {
      "cell_type": "code",
      "execution_count": 9,
      "id": "ff950589",
      "metadata": {
        "colab": {
          "base_uri": "https://localhost:8080/"
        },
        "id": "ff950589",
        "outputId": "55231db5-5284-4dcc-c88b-5f82fbbb5ae4"
      },
      "outputs": [
        {
          "output_type": "stream",
          "name": "stdout",
          "text": [
            "2.0\n",
            "2.0\n",
            " Series :\n",
            "a     2.0\n",
            "b    10.0\n",
            "c     4.5\n",
            "dtype: float64\n"
          ]
        }
      ],
      "source": [
        "s1 = pd.Series ([2.0 , 3.1 , 4.5] , index =[ 'a', 'b', 'c'])\n",
        "print(s1.loc['a']) # With explicit index\n",
        "print(s1.iloc[0]) # With implicit index\n",
        "s1.loc ['b'] = 10 # Allows editing values ( assign a value )\n",
        "print (f\" Series :\\n{s1}\")"
      ]
    },
    {
      "cell_type": "markdown",
      "source": [
        "#### 2.2.5 Slicing a Series\n",
        "\n",
        "You can also use `.loc[]` and `.iloc[]` to access a slice of the elements of the Series. With the implicit\n",
        "index (iloc), it works as Numpy arrays and lists. You have to specify the start position (included) and\n",
        "the end position (excluded). Instead with explicit index (loc), you should specify the starting and stop\n",
        "index, both included. After slicing, you get a new Series containing the sliced elements."
      ],
      "metadata": {
        "id": "bL32JWqBNkDO"
      },
      "id": "bL32JWqBNkDO"
    },
    {
      "cell_type": "code",
      "source": [
        "s1 = pd.Series([2.0 , 3.1 , 4.5 , 1.1 , 7.7 , 2.4] , index =[ 'a', 'b', 'c', 'd', 'e', 'f'])\n",
        "print(s1.loc['c':'e'])\n",
        "print(s1.iloc[2:5])"
      ],
      "metadata": {
        "colab": {
          "base_uri": "https://localhost:8080/"
        },
        "id": "rXs5hJLnNtsg",
        "outputId": "6f057b9d-adaf-4546-beaf-187ec48a2e7b"
      },
      "id": "rXs5hJLnNtsg",
      "execution_count": 10,
      "outputs": [
        {
          "output_type": "stream",
          "name": "stdout",
          "text": [
            "c    4.5\n",
            "d    1.1\n",
            "e    7.7\n",
            "dtype: float64\n",
            "c    4.5\n",
            "d    1.1\n",
            "e    7.7\n",
            "dtype: float64\n"
          ]
        }
      ]
    },
    {
      "cell_type": "markdown",
      "source": [
        "#### 2.2.6 Masking a Series\n",
        "\n",
        "You can also access Series elements with `masking`. The `masking` will create a `boolean Series` with `True` if the condition is satisfied and `False` if not satisfied. When using masking, you can avoid using the loc\n",
        "function"
      ],
      "metadata": {
        "id": "SoFAtA2SN8Tk"
      },
      "id": "SoFAtA2SN8Tk"
    },
    {
      "cell_type": "code",
      "source": [
        "s1 = pd.Series([2.0 , 3.1 , 4.5] , index =[ 'a', 'b', 'c'])\n",
        "mask = (s1 > 2) & (s1 < 10)\n",
        "print(mask)"
      ],
      "metadata": {
        "colab": {
          "base_uri": "https://localhost:8080/"
        },
        "id": "dLGoocpoN73h",
        "outputId": "a400df6f-e484-46d4-b779-9d12f807e179"
      },
      "id": "dLGoocpoN73h",
      "execution_count": 11,
      "outputs": [
        {
          "output_type": "stream",
          "name": "stdout",
          "text": [
            "a    False\n",
            "b     True\n",
            "c     True\n",
            "dtype: bool\n"
          ]
        }
      ]
    },
    {
      "cell_type": "markdown",
      "source": [
        "As for Numpy, you can exploit the mask to access the Series elemnts and/or modifying if they satisfy\n",
        "a condition:\n"
      ],
      "metadata": {
        "id": "EUruZO6POO4f"
      },
      "id": "EUruZO6POO4f"
    },
    {
      "cell_type": "code",
      "source": [
        "s1 = pd.Series([2.0 , 3.1 , 4.5] , index =[ 'a', 'b', 'c'])\n",
        "mask = (s1 > 2) & (s1 < 10)\n",
        "print(s1[mask])"
      ],
      "metadata": {
        "colab": {
          "base_uri": "https://localhost:8080/"
        },
        "id": "7bCX_1PzOST6",
        "outputId": "6c8017c4-5459-4aef-a1ce-ec39299b7673"
      },
      "id": "7bCX_1PzOST6",
      "execution_count": 12,
      "outputs": [
        {
          "output_type": "stream",
          "name": "stdout",
          "text": [
            "b    3.1\n",
            "c    4.5\n",
            "dtype: float64\n"
          ]
        }
      ]
    },
    {
      "cell_type": "markdown",
      "source": [
        "This example shows how to modify Series elements with a mask:"
      ],
      "metadata": {
        "id": "-1xWKWeQOX5T"
      },
      "id": "-1xWKWeQOX5T"
    },
    {
      "cell_type": "code",
      "source": [
        "s1 = pd.Series([2.0 , 3.1 , 4.5] , index =[ 'a', 'b', 'c'])\n",
        "mask = (s1 >2) & (s1 <10)\n",
        "s1[mask]=0 # modify elements of s1 where mask is True\n",
        "print(s1)\n"
      ],
      "metadata": {
        "colab": {
          "base_uri": "https://localhost:8080/"
        },
        "id": "SGzkbUBhOY-g",
        "outputId": "846fd7bd-858d-42f4-f17f-411a07d67fe6"
      },
      "id": "SGzkbUBhOY-g",
      "execution_count": 13,
      "outputs": [
        {
          "output_type": "stream",
          "name": "stdout",
          "text": [
            "a    2.0\n",
            "b    0.0\n",
            "c    0.0\n",
            "dtype: float64\n"
          ]
        }
      ]
    },
    {
      "cell_type": "markdown",
      "source": [
        "#### 2.2.7 Accessing a Series with Fancy Indexing\n",
        "\n",
        "Fancy Indexing allows you to access a subset of a Series by specifying the list of indices (e.g., you want to access rows with indices 'a' and 'b'). It is an access method also available for Numpy arrays (but we didn't cover it). However, with Series and DataFrame (we will see it later), it is really useful. The syntax is simple:\n",
        "when you access the series, you have to put inside the square brackets a list of index values that you want to access (e.g., `s1.loc[[’a’, ’b’]]` or `s1.iloc[[1, 3]]`).\n"
      ],
      "metadata": {
        "id": "25SEAX1VOnwm"
      },
      "id": "25SEAX1VOnwm"
    },
    {
      "cell_type": "markdown",
      "source": [
        "This example shows how to access the elements of the Series with (explicit) index ’a’ and ’c’:\n"
      ],
      "metadata": {
        "id": "DLHkBVE4OzlN"
      },
      "id": "DLHkBVE4OzlN"
    },
    {
      "cell_type": "code",
      "source": [
        "s1 = pd.Series ([2.0 , 3.1 , 4.5] , index =[ 'a', 'b', 'c'])\n",
        "print(s1.loc[['a','c']])"
      ],
      "metadata": {
        "colab": {
          "base_uri": "https://localhost:8080/"
        },
        "id": "GCTU4TMwO1ti",
        "outputId": "d3f026ca-4e46-4789-e10a-7f09e4a06be5"
      },
      "id": "GCTU4TMwO1ti",
      "execution_count": 14,
      "outputs": [
        {
          "output_type": "stream",
          "name": "stdout",
          "text": [
            "a    2.0\n",
            "c    4.5\n",
            "dtype: float64\n"
          ]
        }
      ]
    },
    {
      "cell_type": "markdown",
      "source": [
        "This example shows how to access with (implicit) index the first (position 0) and the third (position 2) elements of the Series:"
      ],
      "metadata": {
        "id": "ibKWRp-EPCwE"
      },
      "id": "ibKWRp-EPCwE"
    },
    {
      "cell_type": "code",
      "source": [
        "print(s1.iloc[[0 , 2]])"
      ],
      "metadata": {
        "colab": {
          "base_uri": "https://localhost:8080/"
        },
        "id": "RqQHfN7uPFMW",
        "outputId": "4d861008-6daf-415f-faac-4acbaef177ea"
      },
      "id": "RqQHfN7uPFMW",
      "execution_count": 15,
      "outputs": [
        {
          "output_type": "stream",
          "name": "stdout",
          "text": [
            "a    2.0\n",
            "c    4.5\n",
            "dtype: float64\n"
          ]
        }
      ]
    },
    {
      "cell_type": "markdown",
      "id": "67c15b2f",
      "metadata": {
        "id": "67c15b2f"
      },
      "source": [
        "### 3. Pandas DataFrame\n",
        "\n",
        "DataFrame represents a 2-dimensional array (i.e., a Table). It can be viewed as a table where columns\n",
        "are Series objects that share the same index. Each column has a name.\n",
        "\n",
        "![image.png](data:image/png;base64,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)"
      ]
    },
    {
      "cell_type": "markdown",
      "id": "186eca34",
      "metadata": {
        "id": "186eca34"
      },
      "source": [
        "### 3.1 Pandas DataFrame creation\n",
        "#### 3.1.1 DataFrame from Series\n",
        "\n",
        "You can create a DataFrame starting from existing Series with the same Index for all of them. You should\n",
        "use the pd.DataFrame() constructor by passing as a parameter a dictionary with the column names as\n",
        "keys, and the Series as values:\n"
      ]
    },
    {
      "cell_type": "code",
      "execution_count": 16,
      "id": "417b4c66",
      "metadata": {
        "colab": {
          "base_uri": "https://localhost:8080/"
        },
        "id": "417b4c66",
        "outputId": "cb248fbf-9a83-4e52-d4ef-853b29096df7"
      },
      "outputs": [
        {
          "output_type": "stream",
          "name": "stdout",
          "text": [
            "   Price  Quantity\n",
            "a    1.0         5\n",
            "b    1.4        10\n",
            "c    5.0         8\n"
          ]
        }
      ],
      "source": [
        "price = pd.Series([1.0, 1.4, 5], index=['a', 'b', 'c'])\n",
        "quantity = pd.Series([5, 10, 8], index=['a', 'b', 'c'])\n",
        "df = pd.DataFrame({'Price': price, 'Quantity': quantity})\n",
        "print(df)"
      ]
    },
    {
      "cell_type": "markdown",
      "source": [
        "If you have Series that don’t contain exactly the same Index, the values of the index that do not match\n",
        "will be inserted only for the Series that contain those values, and for the other Series (i.e., columns), will be\n",
        "inserted a Null value (i.e., NaN)."
      ],
      "metadata": {
        "id": "0SPGQDFhPdMt"
      },
      "id": "0SPGQDFhPdMt"
    },
    {
      "cell_type": "code",
      "source": [
        "price = pd.Series ([1.0 , 1.4 , 5, 2] , index =[ 'a', 'b', 'c', 'd'])# Added 'd' in the Index\n",
        "quantity = pd.Series ([5 , 10 , 8] , index =[ 'a', 'b', 'c'])\n",
        "liters = pd.Series ([1.5 , 0.3 , 1] , index =[ 'a', 'b', 'c'])\n",
        "df = pd.DataFrame ({ 'Price ': price , 'Quantity ': quantity , 'Liters ': liters })\n",
        "print( df )"
      ],
      "metadata": {
        "colab": {
          "base_uri": "https://localhost:8080/"
        },
        "id": "Zbw3jiQ2Pduj",
        "outputId": "cdc6e7f3-afbb-4ebe-fa31-e79e4a408b51"
      },
      "id": "Zbw3jiQ2Pduj",
      "execution_count": 17,
      "outputs": [
        {
          "output_type": "stream",
          "name": "stdout",
          "text": [
            "   Price   Quantity   Liters \n",
            "a     1.0        5.0      1.5\n",
            "b     1.4       10.0      0.3\n",
            "c     5.0        8.0      1.0\n",
            "d     2.0        NaN      NaN\n"
          ]
        }
      ]
    },
    {
      "cell_type": "markdown",
      "source": [
        "#### 3.1.2 DataFrame from list of dictionaries\n",
        "\n",
        "You can create a DataFrame from a list of dictionaries. Each dictionary in the list represents a row in the DataFrame. The Index is automatically set to a progressive number (unless explicitly passed as a parameter, e.g., index=[’p1’, ’p2’, ’p3’]).\n"
      ],
      "metadata": {
        "id": "JVC1A_NoPm2g"
      },
      "id": "JVC1A_NoPm2g"
    },
    {
      "cell_type": "code",
      "source": [
        "df = pd.DataFrame (\n",
        "    [\n",
        "        {'a':1 , 'b':0.5 , 'c': 2.2} ,\n",
        "         {'a':1.1 , 'b':0.7 , 'c': 1.8} ,\n",
        "          {'a':1.5 , 'b':0.2 , 'c': 2.5}\n",
        "        ]\n",
        "    )\n",
        "print(df)"
      ],
      "metadata": {
        "colab": {
          "base_uri": "https://localhost:8080/"
        },
        "id": "PZf0-n2fPvAb",
        "outputId": "e848728f-54c5-43b6-bffe-3701c576c06c"
      },
      "id": "PZf0-n2fPvAb",
      "execution_count": 18,
      "outputs": [
        {
          "output_type": "stream",
          "name": "stdout",
          "text": [
            "     a    b    c\n",
            "0  1.0  0.5  2.2\n",
            "1  1.1  0.7  1.8\n",
            "2  1.5  0.2  2.5\n"
          ]
        }
      ]
    },
    {
      "cell_type": "markdown",
      "source": [
        "If you specify the Index parameter"
      ],
      "metadata": {
        "id": "rpu5XaneP6e2"
      },
      "id": "rpu5XaneP6e2"
    },
    {
      "cell_type": "code",
      "source": [
        "df = pd.DataFrame (\n",
        "    [\n",
        "        {'a':1 , 'b':0.5 , 'c': 2.2} ,\n",
        "         {'a':1.1 , 'b':0.7 , 'c': 1.8} ,\n",
        "          {'a':1.5 , 'b':0.2 , 'c': 2.5}\n",
        "        ],\n",
        "    index = ['p1', 'p2','p3']\n",
        "    )\n",
        "print(df)"
      ],
      "metadata": {
        "colab": {
          "base_uri": "https://localhost:8080/"
        },
        "id": "A8v9qgayP63u",
        "outputId": "8ee129a6-c709-46d5-b027-3145fc31e0dc"
      },
      "id": "A8v9qgayP63u",
      "execution_count": 19,
      "outputs": [
        {
          "output_type": "stream",
          "name": "stdout",
          "text": [
            "      a    b    c\n",
            "p1  1.0  0.5  2.2\n",
            "p2  1.1  0.7  1.8\n",
            "p3  1.5  0.2  2.5\n"
          ]
        }
      ]
    },
    {
      "cell_type": "markdown",
      "source": [
        "#### 3.1.3 DataFrame from a dictionary of key-list pairs\n",
        "\n",
        "You can create a DataFrame from a dictionary of key-list pairs. In this case, each value of the dictionary\n",
        "is a list, and it is associated to a column. The column name is given by the corresponding key in the\n",
        "dictionary. The Index of the DataFrame is automatically set to a progressive number unless explicitly\n",
        "passed as a parameter, e.g., index=[’p1’, ’p2’, ’p3’])."
      ],
      "metadata": {
        "id": "Fm2OqVUBQDCV"
      },
      "id": "Fm2OqVUBQDCV"
    },
    {
      "cell_type": "code",
      "source": [
        "my_dict = { \"c1\": [0 , 1 , 2] , \"c2\": [0 , 2, 4] }\n",
        "df = pd.DataFrame(my_dict)\n",
        "print(df)"
      ],
      "metadata": {
        "colab": {
          "base_uri": "https://localhost:8080/"
        },
        "id": "3_pISNU_QGYv",
        "outputId": "88ae5dc3-3cde-430f-cf72-9225f8775165"
      },
      "id": "3_pISNU_QGYv",
      "execution_count": 20,
      "outputs": [
        {
          "output_type": "stream",
          "name": "stdout",
          "text": [
            "   c1  c2\n",
            "0   0   0\n",
            "1   1   2\n",
            "2   2   4\n"
          ]
        }
      ]
    },
    {
      "cell_type": "markdown",
      "source": [
        "### 3.2 Accessing DataFrames\n",
        "\n",
        "#### 3.2.1 Accessing Column Names and Index\n",
        "You can retrieve all column names and index values of a DataFrame using `.columns` and `.index` attributes. The `.columns` attribute returns an Index object containing column names, while `.index` returns row indices."
      ],
      "metadata": {
        "id": "V6b-TXp8RiJG"
      },
      "id": "V6b-TXp8RiJG"
    },
    {
      "cell_type": "code",
      "source": [
        "import pandas as pd\n",
        "\n",
        "price = pd.Series([1.0, 1.4, 5], index=['a', 'b', 'c'])\n",
        "quantity = pd.Series([5, 10, 8], index=['a', 'b', 'c'])\n",
        "liters = pd.Series([1.5, 0.3, 1], index=['a', 'b', 'c'])\n",
        "df = pd.DataFrame({'Price': price, 'Quantity': quantity, 'Liters': liters})\n",
        "print(df.columns)  # Get column names\n",
        "print(df.index)  # Get index"
      ],
      "metadata": {
        "colab": {
          "base_uri": "https://localhost:8080/"
        },
        "id": "LMtxxGNMRhX_",
        "outputId": "7ff34bac-ea1f-4d5b-893f-c69c105cc682"
      },
      "id": "LMtxxGNMRhX_",
      "execution_count": 21,
      "outputs": [
        {
          "output_type": "stream",
          "name": "stdout",
          "text": [
            "Index(['Price', 'Quantity', 'Liters'], dtype='object')\n",
            "Index(['a', 'b', 'c'], dtype='object')\n"
          ]
        }
      ]
    },
    {
      "cell_type": "markdown",
      "source": [
        "#### 3.2.2 Accessing DataFrame Data as Numpy Array\n",
        "You can convert a DataFrame to a NumPy array using the `.values` attribute. This allows for faster numerical operations."
      ],
      "metadata": {
        "id": "wygO2Z6RRqtJ"
      },
      "id": "wygO2Z6RRqtJ"
    },
    {
      "cell_type": "code",
      "source": [
        "my_arr = df.values  # Convert DataFrame to Numpy array\n",
        "print(my_arr)"
      ],
      "metadata": {
        "colab": {
          "base_uri": "https://localhost:8080/"
        },
        "id": "2VnRhTUqRra8",
        "outputId": "f34da272-4d01-408a-c27e-f650d0c24eb5"
      },
      "id": "2VnRhTUqRra8",
      "execution_count": 22,
      "outputs": [
        {
          "output_type": "stream",
          "name": "stdout",
          "text": [
            "[[ 1.   5.   1.5]\n",
            " [ 1.4 10.   0.3]\n",
            " [ 5.   8.   1. ]]\n"
          ]
        }
      ]
    },
    {
      "cell_type": "markdown",
      "source": [
        "#### 3.2.3 Accessing DataFrame Columns\n",
        "You can access a DataFrame column using bracket notation `df['column_name']`. It returns a Pandas Series representing the column."
      ],
      "metadata": {
        "id": "nrwrY-ZfRt9W"
      },
      "id": "nrwrY-ZfRt9W"
    },
    {
      "cell_type": "code",
      "source": [
        "print(df['Quantity'])  # Access a single column"
      ],
      "metadata": {
        "colab": {
          "base_uri": "https://localhost:8080/"
        },
        "id": "3sQ00aABRuRd",
        "outputId": "9f343ab0-46db-4f96-cd38-9e849c49cc25"
      },
      "id": "3sQ00aABRuRd",
      "execution_count": 23,
      "outputs": [
        {
          "output_type": "stream",
          "name": "stdout",
          "text": [
            "a     5\n",
            "b    10\n",
            "c     8\n",
            "Name: Quantity, dtype: int64\n"
          ]
        }
      ]
    },
    {
      "cell_type": "markdown",
      "source": [
        "#### 3.2.4 Accessing a Single DataFrame Row by Index\n",
        "To access a row by its explicit index, use `.loc[row_label]`. To access a row using its position, use `.iloc[row_position]`. Both return a Series representing the row."
      ],
      "metadata": {
        "id": "GLK4ZiZ5RwPH"
      },
      "id": "GLK4ZiZ5RwPH"
    },
    {
      "cell_type": "code",
      "source": [
        "print(df.loc['a'])  # Access row using explicit index\n",
        "print(df.iloc[0])  # Access row using implicit index"
      ],
      "metadata": {
        "colab": {
          "base_uri": "https://localhost:8080/"
        },
        "id": "NfrkrWBjRwvx",
        "outputId": "6244e3ff-cfa3-4404-b7fa-df41868f14d5"
      },
      "id": "NfrkrWBjRwvx",
      "execution_count": 24,
      "outputs": [
        {
          "output_type": "stream",
          "name": "stdout",
          "text": [
            "Price       1.0\n",
            "Quantity    5.0\n",
            "Liters      1.5\n",
            "Name: a, dtype: float64\n",
            "Price       1.0\n",
            "Quantity    5.0\n",
            "Liters      1.5\n",
            "Name: a, dtype: float64\n"
          ]
        }
      ]
    },
    {
      "cell_type": "markdown",
      "source": [
        "#### 3.2.5 Accessing DataFrames with Slicing\n",
        "You can slice a DataFrame to access specific rows and columns. With `.loc`, both start and end indices are included, while `.iloc` excludes the end index."
      ],
      "metadata": {
        "id": "eDuel3sHRyfs"
      },
      "id": "eDuel3sHRyfs"
    },
    {
      "cell_type": "code",
      "source": [
        "print(df.loc['b':'c', 'Quantity':'Liters'])  # Slicing rows and columns using explicit index"
      ],
      "metadata": {
        "colab": {
          "base_uri": "https://localhost:8080/"
        },
        "id": "QwvIGQrURy5_",
        "outputId": "5ba12f31-5a73-42b1-8c90-d33b247a7e1c"
      },
      "id": "QwvIGQrURy5_",
      "execution_count": 25,
      "outputs": [
        {
          "output_type": "stream",
          "name": "stdout",
          "text": [
            "   Quantity  Liters\n",
            "b        10     0.3\n",
            "c         8     1.0\n"
          ]
        }
      ]
    },
    {
      "cell_type": "markdown",
      "source": [
        "#### 3.2.6 Accessing DataFrames with Masking\n",
        "Masking allows filtering rows based on conditions. A boolean mask is applied to select specific data."
      ],
      "metadata": {
        "id": "6OiCa5y2R0UT"
      },
      "id": "6OiCa5y2R0UT"
    },
    {
      "cell_type": "code",
      "source": [
        "mask = (df['Quantity'] < 10) & (df['Liters'] > 1)\n",
        "print(df.loc[mask, 'Quantity':])  # Apply mask and slice"
      ],
      "metadata": {
        "colab": {
          "base_uri": "https://localhost:8080/"
        },
        "id": "06IUuP2rR2Ap",
        "outputId": "2ddeb26e-e821-4138-bcea-79053de60f86"
      },
      "id": "06IUuP2rR2Ap",
      "execution_count": 26,
      "outputs": [
        {
          "output_type": "stream",
          "name": "stdout",
          "text": [
            "   Quantity  Liters\n",
            "a         5     1.5\n"
          ]
        }
      ]
    },
    {
      "cell_type": "markdown",
      "source": [
        "#### 3.2.7 Accessing DataFrame with Fancy Indexing\n",
        "Fancy indexing allows selecting multiple specific rows or columns by passing a list of index names."
      ],
      "metadata": {
        "id": "jVRYe-ihR4KD"
      },
      "id": "jVRYe-ihR4KD"
    },
    {
      "cell_type": "code",
      "source": [
        "print(df.loc[['a', 'c'], ['Price', 'Liters']])  # Fancy indexing to access specific rows and columns"
      ],
      "metadata": {
        "colab": {
          "base_uri": "https://localhost:8080/"
        },
        "id": "ytPMM5bVR4p9",
        "outputId": "e59a6a2e-c5d1-47c1-ba6c-cedf618a0e76"
      },
      "id": "ytPMM5bVR4p9",
      "execution_count": 27,
      "outputs": [
        {
          "output_type": "stream",
          "name": "stdout",
          "text": [
            "   Price  Liters\n",
            "a    1.0     1.5\n",
            "c    5.0     1.0\n"
          ]
        }
      ]
    },
    {
      "cell_type": "markdown",
      "source": [
        "#### 3.2.8 Adding a New Column to DataFrame\n",
        "You can add a new column by assigning a new Series or list to `df['new_column']`."
      ],
      "metadata": {
        "id": "S7J18y2VR8aZ"
      },
      "id": "S7J18y2VR8aZ"
    },
    {
      "cell_type": "code",
      "source": [
        "df['NewColumn'] = [10, 20, 30]  # Adding a new column\n",
        "print(df)"
      ],
      "metadata": {
        "colab": {
          "base_uri": "https://localhost:8080/"
        },
        "id": "JqkorJVUR80q",
        "outputId": "b3d2bb4d-89d7-4235-a1d6-a83ba25aa1b3"
      },
      "id": "JqkorJVUR80q",
      "execution_count": 28,
      "outputs": [
        {
          "output_type": "stream",
          "name": "stdout",
          "text": [
            "   Price  Quantity  Liters  NewColumn\n",
            "a    1.0         5     1.5         10\n",
            "b    1.4        10     0.3         20\n",
            "c    5.0         8     1.0         30\n"
          ]
        }
      ]
    },
    {
      "cell_type": "markdown",
      "source": [
        "#### 3.2.9 Dropping Columns from DataFrame\n",
        "To remove columns, use `.drop(columns=['column_name'])`. By default, it returns a new DataFrame unless `inplace=True` is used."
      ],
      "metadata": {
        "id": "d91YBEDJR-zC"
      },
      "id": "d91YBEDJR-zC"
    },
    {
      "cell_type": "code",
      "source": [
        "df = df.drop(columns=['NewColumn'])  # Drop a column\n",
        "print(df)"
      ],
      "metadata": {
        "colab": {
          "base_uri": "https://localhost:8080/"
        },
        "id": "kVeKWA-mR_IY",
        "outputId": "45d25586-c692-4d7a-a9e7-95dcb7a9db59"
      },
      "id": "kVeKWA-mR_IY",
      "execution_count": 29,
      "outputs": [
        {
          "output_type": "stream",
          "name": "stdout",
          "text": [
            "   Price  Quantity  Liters\n",
            "a    1.0         5     1.5\n",
            "b    1.4        10     0.3\n",
            "c    5.0         8     1.0\n"
          ]
        }
      ]
    },
    {
      "cell_type": "markdown",
      "source": [
        "#### 3.2.10 Renaming Columns of a DataFrame\n",
        "You can rename DataFrame columns using `.rename(columns={'old_name': 'new_name'})`. If `inplace=True` is specified, it modifies the DataFrame directly."
      ],
      "metadata": {
        "id": "Kopqkxa9SA7C"
      },
      "id": "Kopqkxa9SA7C"
    },
    {
      "cell_type": "code",
      "source": [
        "df = df.rename(columns={'Price': 'Cost', 'Quantity': 'Amount'})  # Rename columns\n",
        "print(df)"
      ],
      "metadata": {
        "colab": {
          "base_uri": "https://localhost:8080/"
        },
        "id": "9m8b9ttGSBVg",
        "outputId": "a308e848-e5b6-4ab7-ef4e-a86b3d01eb04"
      },
      "id": "9m8b9ttGSBVg",
      "execution_count": 30,
      "outputs": [
        {
          "output_type": "stream",
          "name": "stdout",
          "text": [
            "   Cost  Amount  Liters\n",
            "a   1.0       5     1.5\n",
            "b   1.4      10     0.3\n",
            "c   5.0       8     1.0\n"
          ]
        }
      ]
    },
    {
      "cell_type": "markdown",
      "source": [
        "### 4 Computation with Pandas\n",
        "\n"
      ],
      "metadata": {
        "id": "dgiZWrDMSsg-"
      },
      "id": "dgiZWrDMSsg-"
    },
    {
      "cell_type": "markdown",
      "source": [
        "#### 4.1 Unary operations on Series and DataFrames\n",
        "\n",
        "The unary operations on Series and DataFrames work with any Numpy unary function. The specified\n",
        "operation is applied to each element of the Series/DataFrame. Also, broadcasting works in the same way.\n",
        "You can sum/divide/multiply each element of a Series or a DataFrame by a scalar with the +, /, or *\n",
        "operators. Or you can compute the absolute value, the exponent, etc., of each element of a Series or a\n",
        "DataFrame with the corresponding Numpy functions `np.abs(s1)`, `np.abs(df)`, `np.exp(s1)`, `np.exp(df)`,\n",
        "etc."
      ],
      "metadata": {
        "id": "zzfdf6XXS4AJ"
      },
      "id": "zzfdf6XXS4AJ"
    },
    {
      "cell_type": "markdown",
      "source": [
        "#### 4.2 Operations between Series and DataFrames\n",
        "You can apply operations between two series. The operation is applied element-wise after aligning indices. The Index elements which do not match are set to NaN (i.e., not a number). After the alignment, the index in the result is sorted (only if they do not match).\n"
      ],
      "metadata": {
        "id": "tlqWedu-S6N3"
      },
      "id": "tlqWedu-S6N3"
    },
    {
      "cell_type": "code",
      "source": [
        "s1 = pd.Series([3 , 1, 10] , index =[ 'b', 'a', 'c'])\n",
        "s2 = pd.Series ([1 , 3, 30] , index =[ 'a', 'b', 'd'])\n",
        "\n",
        "res = s1 + s2\n",
        "print(res)"
      ],
      "metadata": {
        "colab": {
          "base_uri": "https://localhost:8080/"
        },
        "id": "7lWrmEoXS9o_",
        "outputId": "49473a3f-1d08-4967-ee0a-adff1b6fc9c8"
      },
      "id": "7lWrmEoXS9o_",
      "execution_count": 31,
      "outputs": [
        {
          "output_type": "stream",
          "name": "stdout",
          "text": [
            "a    2.0\n",
            "b    6.0\n",
            "c    NaN\n",
            "d    NaN\n",
            "dtype: float64\n"
          ]
        }
      ]
    },
    {
      "cell_type": "markdown",
      "source": [
        "For the Index values with no match in both series, it puts the NaN values. Moreover, in this case, the\n",
        "index and the columns are ordered (only if they do not match)."
      ],
      "metadata": {
        "id": "qohZn054RhzL"
      },
      "id": "qohZn054RhzL"
    },
    {
      "cell_type": "markdown",
      "source": [
        "![image.png](data:image/png;base64,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)"
      ],
      "metadata": {
        "id": "nD-G9PZPZBNs"
      },
      "id": "nD-G9PZPZBNs"
    },
    {
      "cell_type": "markdown",
      "source": [
        "To perform operations with two DataFrames, you not only have to align Index but also the columns.\n",
        "Therefore, the operation is applied element-wise after aligning indices and columns.\n"
      ],
      "metadata": {
        "id": "W_iiXkWKTe-R"
      },
      "id": "W_iiXkWKTe-R"
    },
    {
      "cell_type": "markdown",
      "source": [
        "![image.png](data:image/png;base64,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)"
      ],
      "metadata": {
        "id": "Wx8bloDxTkK1"
      },
      "id": "Wx8bloDxTkK1"
    },
    {
      "cell_type": "markdown",
      "source": [
        "If the columns are not aligned, it inserts NaN values in all the rows of the not aligned columns\n"
      ],
      "metadata": {
        "id": "mNSCzLl1TmSP"
      },
      "id": "mNSCzLl1TmSP"
    },
    {
      "cell_type": "markdown",
      "source": [
        "![image.png](data:image/png;base64,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)"
      ],
      "metadata": {
        "id": "t2iKs0P8TpNg"
      },
      "id": "t2iKs0P8TpNg"
    },
    {
      "cell_type": "markdown",
      "source": [
        "You can also apply operations between DataFrames and Series. The operation is applied between the\n",
        "Series and each row of the DataFrame. The operation follows the broadcasting rules. You have to\n",
        "consider the Series as a row vector where each column became an index"
      ],
      "metadata": {
        "id": "LGFr6D3NTryX"
      },
      "id": "LGFr6D3NTryX"
    },
    {
      "cell_type": "markdown",
      "source": [
        "![image.png](data:image/png;base64,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)"
      ],
      "metadata": {
        "id": "rywYakK4Txfk"
      },
      "id": "rywYakK4Txfk"
    },
    {
      "cell_type": "markdown",
      "source": [
        "### 4.3 Aggregations\n",
        "\n",
        "You can perform aggregate functions (for both Series and DataFrames) to compute the mean `df.mean()`, the standard deviation `df.std()`, the minimum value `df.min()`, the maximum value `df.max()`, and the sum `df.sum()`.\n",
        "An aggregate function applied to a Series returns a single value with the mean/sum/etc. of the series\n",
        "elements."
      ],
      "metadata": {
        "id": "NkXNwASbT08L"
      },
      "id": "NkXNwASbT08L"
    },
    {
      "cell_type": "code",
      "source": [
        "s1 = pd.Series([2.0 , 3.1 , 4.5])\n",
        "print(s1.mean())"
      ],
      "metadata": {
        "colab": {
          "base_uri": "https://localhost:8080/"
        },
        "id": "UFYdfM8YThjV",
        "outputId": "d5df54f1-e79a-425b-f062-fd936bff2015"
      },
      "id": "UFYdfM8YThjV",
      "execution_count": 32,
      "outputs": [
        {
          "output_type": "stream",
          "name": "stdout",
          "text": [
            "3.1999999999999997\n"
          ]
        }
      ]
    },
    {
      "cell_type": "markdown",
      "source": [
        "Instead, for DataFrames, aggregate functions are applied column-wise and return a Series with the mean/sum/etc. of each column separately"
      ],
      "metadata": {
        "id": "EZ_s-8poUTg2"
      },
      "id": "EZ_s-8poUTg2"
    },
    {
      "cell_type": "code",
      "source": [
        "price = pd.Series([1.0 , 1.4 , 5] , index =[ 'a', 'b', 'c'])\n",
        "quantity = pd.Series([5, 10, 8], index=['a', 'b', 'c'])\n",
        "liters = pd.Series([1.5, 0.3, 1], index=['a', 'b', 'c'])\n",
        "\n",
        "df = pd.DataFrame({'Price': price, 'Quantity': quantity, 'Liters': liters})\n",
        "\n",
        "print(df.mean())"
      ],
      "metadata": {
        "colab": {
          "base_uri": "https://localhost:8080/"
        },
        "id": "EsENKKz5UUli",
        "outputId": "f82ab19c-d9b3-40c3-8e2c-2d244da57d5c"
      },
      "id": "EsENKKz5UUli",
      "execution_count": 33,
      "outputs": [
        {
          "output_type": "stream",
          "name": "stdout",
          "text": [
            "Price       2.466667\n",
            "Quantity    7.666667\n",
            "Liters      0.933333\n",
            "dtype: float64\n"
          ]
        }
      ]
    },
    {
      "cell_type": "markdown",
      "source": [
        "If you want to perform the Z-Score normalization with pandas of each column separately, you can do\n",
        "the following:"
      ],
      "metadata": {
        "id": "uCz5ee1EUhev"
      },
      "id": "uCz5ee1EUhev"
    },
    {
      "cell_type": "code",
      "source": [
        "mean_series = df.mean()\n",
        "std_series = df.std()\n",
        "\n",
        "df_norm = (df - mean_series) / std_series\n",
        "print(df_norm)"
      ],
      "metadata": {
        "colab": {
          "base_uri": "https://localhost:8080/"
        },
        "id": "IA9Nq8nrUh5s",
        "outputId": "d02d9851-c1c7-4a7e-e0d6-968c98622f5c"
      },
      "id": "IA9Nq8nrUh5s",
      "execution_count": 34,
      "outputs": [
        {
          "output_type": "stream",
          "name": "stdout",
          "text": [
            "      Price  Quantity    Liters\n",
            "a -0.665750 -1.059626  0.940102\n",
            "b -0.484182  0.927173 -1.050702\n",
            "c  1.149932  0.132453  0.110600\n"
          ]
        }
      ]
    },
    {
      "cell_type": "markdown",
      "source": [
        "### 5 Handling missing values\n",
        "\n",
        "Missing values in Pandas are represented with sentinel values. They can be represented with the Python\n",
        "null value `None` or the Numpy not a number `np.Nan`. The difference is that None is a python object, instead\n",
        "np.Nan is a floating point number. Using NaN achieves better performances when performing numerical\n",
        "computations. Pandas supports both types and automatically converts between them when appropriate."
      ],
      "metadata": {
        "id": "zRYlFDLXUoCx"
      },
      "id": "zRYlFDLXUoCx"
    },
    {
      "cell_type": "markdown",
      "source": [
        "#### 5.1 Check if there are Null elements\n",
        "\n",
        "You can check if a Series or a DataFrame contain null values with the `.isnull()` method (e.g., `s1.isnull()`\n",
        "or `df.isnull()`). It returns a boolean mask indicating null values (i.e., a boolean mask with True if the\n",
        "element is Null, False otherwise). The opposite function is `.notnull()`, which returns a boolean mask\n",
        "indicating not Null values (i.e., True of the element is not Null, False otherwise).\n"
      ],
      "metadata": {
        "id": "HsXARm1mUuqY"
      },
      "id": "HsXARm1mUuqY"
    },
    {
      "cell_type": "code",
      "source": [
        "import pandas as pd\n",
        "import numpy as np\n",
        "\n",
        "s1 = pd.Series([4, None, 5, np.nan])\n",
        "\n",
        "print(s1.isnull())  # Returns a boolean mask indicating missing values\n"
      ],
      "metadata": {
        "colab": {
          "base_uri": "https://localhost:8080/"
        },
        "id": "Hq5SLI4JU8eG",
        "outputId": "00a309ca-d705-48b1-ed8c-bd71e9184980"
      },
      "id": "Hq5SLI4JU8eG",
      "execution_count": 35,
      "outputs": [
        {
          "output_type": "stream",
          "name": "stdout",
          "text": [
            "0    False\n",
            "1     True\n",
            "2    False\n",
            "3     True\n",
            "dtype: bool\n"
          ]
        }
      ]
    },
    {
      "cell_type": "markdown",
      "source": [
        "#### 5.2 Remove Null elements\n",
        "\n",
        "You can also remove Null elements with the `.dropna()` method."
      ],
      "metadata": {
        "id": "H7gUihn3U-Rf"
      },
      "id": "H7gUihn3U-Rf"
    },
    {
      "cell_type": "code",
      "source": [
        "s1.dropna()"
      ],
      "metadata": {
        "colab": {
          "base_uri": "https://localhost:8080/",
          "height": 147
        },
        "id": "ZoUU2OiFVBoN",
        "outputId": "c1d9e834-2312-4c6c-f089-814595f19845"
      },
      "id": "ZoUU2OiFVBoN",
      "execution_count": 36,
      "outputs": [
        {
          "output_type": "execute_result",
          "data": {
            "text/plain": [
              "0    4.0\n",
              "2    5.0\n",
              "dtype: float64"
            ],
            "text/html": [
              "<div>\n",
              "<style scoped>\n",
              "    .dataframe tbody tr th:only-of-type {\n",
              "        vertical-align: middle;\n",
              "    }\n",
              "\n",
              "    .dataframe tbody tr th {\n",
              "        vertical-align: top;\n",
              "    }\n",
              "\n",
              "    .dataframe thead th {\n",
              "        text-align: right;\n",
              "    }\n",
              "</style>\n",
              "<table border=\"1\" class=\"dataframe\">\n",
              "  <thead>\n",
              "    <tr style=\"text-align: right;\">\n",
              "      <th></th>\n",
              "      <th>0</th>\n",
              "    </tr>\n",
              "  </thead>\n",
              "  <tbody>\n",
              "    <tr>\n",
              "      <th>0</th>\n",
              "      <td>4.0</td>\n",
              "    </tr>\n",
              "    <tr>\n",
              "      <th>2</th>\n",
              "      <td>5.0</td>\n",
              "    </tr>\n",
              "  </tbody>\n",
              "</table>\n",
              "</div><br><label><b>dtype:</b> float64</label>"
            ]
          },
          "metadata": {},
          "execution_count": 36
        }
      ]
    },
    {
      "cell_type": "markdown",
      "source": [
        "#### 5.3 Fill missing values\n",
        "\n",
        "You can fill Null values with a specified value with the .`fillna()` method. E.g., `s1.fillna(0)` or `df.fillna(0)`."
      ],
      "metadata": {
        "id": "Ng9Qrl6xVZtz"
      },
      "id": "Ng9Qrl6xVZtz"
    },
    {
      "cell_type": "code",
      "source": [
        "import pandas as pd\n",
        "import numpy as np\n",
        "\n",
        "df = pd.DataFrame({'Total': [1, 3, 5], 'Quantity': [2, np.nan, 6]}, index=['a', 'b', 'c'])\n",
        "\n",
        "df_filled = df.fillna(0)  # Fill NaN values with 0\n",
        "print(df_filled)\n"
      ],
      "metadata": {
        "colab": {
          "base_uri": "https://localhost:8080/"
        },
        "id": "8DYrO3j1Vbvp",
        "outputId": "01892793-24a9-4f43-a0d3-03a280fb3bf8"
      },
      "id": "8DYrO3j1Vbvp",
      "execution_count": 37,
      "outputs": [
        {
          "output_type": "stream",
          "name": "stdout",
          "text": [
            "   Total  Quantity\n",
            "a      1       2.0\n",
            "b      3       0.0\n",
            "c      5       6.0\n"
          ]
        }
      ]
    },
    {
      "cell_type": "markdown",
      "source": [
        "### 6 Grouping data inside a DataFrame\n",
        "\n",
        "Pandas provides the equivalent of the SQL group by statement. It allows iterating on groups, aggregating\n",
        "the values of each group (e.g., mean, sum, min, max, etc.), and filtering groups according to a condition.\n",
        "The `.groupby()` method returns a DataFrameGroupBy object. You have to specify the column(s) where\n",
        "you want to group (key).\n"
      ],
      "metadata": {
        "id": "_i4IWL62Vlkq"
      },
      "id": "_i4IWL62Vlkq"
    },
    {
      "cell_type": "code",
      "source": [
        "import pandas as pd\n",
        "import numpy as np\n",
        "\n",
        "df = pd.DataFrame({'k': ['a', 'b', 'a', 'b'], 'c1': [2, 10, 3, 15], 'c2': [4, 20, 5, 30]})\n",
        "\n",
        "grouped_df = df.groupby('k')  # 2 groups: 'a' and 'b'\n",
        "\n",
        "for key, group_df in grouped_df:\n",
        "    print(f\"Group: {key}\")\n",
        "    print(group_df)\n",
        "    print(\"-\" * 20)\n"
      ],
      "metadata": {
        "colab": {
          "base_uri": "https://localhost:8080/"
        },
        "id": "Vd2Y3KH2Vt0u",
        "outputId": "e98f87e7-43ef-4da7-ed3f-e39b7efac8a6"
      },
      "id": "Vd2Y3KH2Vt0u",
      "execution_count": 38,
      "outputs": [
        {
          "output_type": "stream",
          "name": "stdout",
          "text": [
            "Group: a\n",
            "   k  c1  c2\n",
            "0  a   2   4\n",
            "2  a   3   5\n",
            "--------------------\n",
            "Group: b\n",
            "   k  c1  c2\n",
            "1  b  10  20\n",
            "3  b  15  30\n",
            "--------------------\n"
          ]
        }
      ]
    },
    {
      "cell_type": "markdown",
      "source": [
        "Or you can aggregate by groups (e.g., with min, max, sum, mean, std)."
      ],
      "metadata": {
        "id": "ddxuMo0nV3oL"
      },
      "id": "ddxuMo0nV3oL"
    },
    {
      "cell_type": "code",
      "source": [
        "import pandas as pd\n",
        "import numpy as np\n",
        "\n",
        "df = pd.DataFrame({'k': ['a', 'b', 'a', 'b'], 'c1': [2, 10, 3, 15], 'c2': [4, 20, 5, 30]})\n",
        "\n",
        "grouped_df = df.groupby('k')  # 2 groups: 'a' and 'b'\n",
        "\n",
        "result = grouped_df.mean().reset_index()\n",
        "print(result)\n"
      ],
      "metadata": {
        "colab": {
          "base_uri": "https://localhost:8080/"
        },
        "id": "B21ZL_T4V4DM",
        "outputId": "563f7c61-f483-49c4-fbea-0270faa38969"
      },
      "id": "B21ZL_T4V4DM",
      "execution_count": 39,
      "outputs": [
        {
          "output_type": "stream",
          "name": "stdout",
          "text": [
            "   k    c1    c2\n",
            "0  a   2.5   4.5\n",
            "1  b  12.5  25.0\n"
          ]
        }
      ]
    },
    {
      "cell_type": "markdown",
      "source": [
        "Notice that you should also use the .reset index() to return a single-level DataFrame. Otherwise, it will return a multi-level DataFrame on the columns.\n"
      ],
      "metadata": {
        "id": "ahogOB9pWCHT"
      },
      "id": "ahogOB9pWCHT"
    },
    {
      "cell_type": "markdown",
      "id": "deb4eec8",
      "metadata": {
        "id": "deb4eec8"
      },
      "source": [
        "### 7 Load from a CSV\n",
        "\n",
        "1.   `.read_csv('filename', sep='seperator')`\n",
        "2.   `.to_csv('filename', sep='seperator')`\n",
        "\n"
      ]
    },
    {
      "cell_type": "code",
      "execution_count": 41,
      "id": "74356a15",
      "metadata": {
        "colab": {
          "base_uri": "https://localhost:8080/",
          "height": 677
        },
        "id": "74356a15",
        "outputId": "e32e7206-e79d-4186-a69d-f7271f78d58c"
      },
      "outputs": [
        {
          "output_type": "execute_result",
          "data": {
            "text/plain": [
              "    order_id  quantity                              item_name  \\\n",
              "0          1         1           Chips and Fresh Tomato Salsa   \n",
              "1          1         1                                   Izze   \n",
              "2          1         1                       Nantucket Nectar   \n",
              "3          1         1  Chips and Tomatillo-Green Chili Salsa   \n",
              "4          2         2                           Chicken Bowl   \n",
              "5          3         1                           Chicken Bowl   \n",
              "6          3         1                          Side of Chips   \n",
              "7          4         1                          Steak Burrito   \n",
              "8          4         1                       Steak Soft Tacos   \n",
              "9          5         1                          Steak Burrito   \n",
              "10         5         1                    Chips and Guacamole   \n",
              "11         6         1                   Chicken Crispy Tacos   \n",
              "12         6         1                     Chicken Soft Tacos   \n",
              "13         7         1                           Chicken Bowl   \n",
              "14         7         1                    Chips and Guacamole   \n",
              "15         8         1  Chips and Tomatillo-Green Chili Salsa   \n",
              "16         8         1                        Chicken Burrito   \n",
              "17         9         1                        Chicken Burrito   \n",
              "18         9         2                            Canned Soda   \n",
              "19        10         1                           Chicken Bowl   \n",
              "\n",
              "                                   choice_description item_price  \n",
              "0                                                 NaN     $2.39   \n",
              "1                                        [Clementine]     $3.39   \n",
              "2                                             [Apple]     $3.39   \n",
              "3                                                 NaN     $2.39   \n",
              "4   [Tomatillo-Red Chili Salsa (Hot), [Black Beans...    $16.98   \n",
              "5   [Fresh Tomato Salsa (Mild), [Rice, Cheese, Sou...    $10.98   \n",
              "6                                                 NaN     $1.69   \n",
              "7   [Tomatillo Red Chili Salsa, [Fajita Vegetables...    $11.75   \n",
              "8   [Tomatillo Green Chili Salsa, [Pinto Beans, Ch...     $9.25   \n",
              "9   [Fresh Tomato Salsa, [Rice, Black Beans, Pinto...     $9.25   \n",
              "10                                                NaN     $4.45   \n",
              "11  [Roasted Chili Corn Salsa, [Fajita Vegetables,...     $8.75   \n",
              "12  [Roasted Chili Corn Salsa, [Rice, Black Beans,...     $8.75   \n",
              "13  [Fresh Tomato Salsa, [Fajita Vegetables, Rice,...    $11.25   \n",
              "14                                                NaN     $4.45   \n",
              "15                                                NaN     $2.39   \n",
              "16  [Tomatillo-Green Chili Salsa (Medium), [Pinto ...     $8.49   \n",
              "17  [Fresh Tomato Salsa (Mild), [Black Beans, Rice...     $8.49   \n",
              "18                                           [Sprite]     $2.18   \n",
              "19  [Tomatillo Red Chili Salsa, [Fajita Vegetables...     $8.75   "
            ],
            "text/html": [
              "\n",
              "  <div id=\"df-149ba463-7397-4e3c-80c7-47c9009ebabb\" class=\"colab-df-container\">\n",
              "    <div>\n",
              "<style scoped>\n",
              "    .dataframe tbody tr th:only-of-type {\n",
              "        vertical-align: middle;\n",
              "    }\n",
              "\n",
              "    .dataframe tbody tr th {\n",
              "        vertical-align: top;\n",
              "    }\n",
              "\n",
              "    .dataframe thead th {\n",
              "        text-align: right;\n",
              "    }\n",
              "</style>\n",
              "<table border=\"1\" class=\"dataframe\">\n",
              "  <thead>\n",
              "    <tr style=\"text-align: right;\">\n",
              "      <th></th>\n",
              "      <th>order_id</th>\n",
              "      <th>quantity</th>\n",
              "      <th>item_name</th>\n",
              "      <th>choice_description</th>\n",
              "      <th>item_price</th>\n",
              "    </tr>\n",
              "  </thead>\n",
              "  <tbody>\n",
              "    <tr>\n",
              "      <th>0</th>\n",
              "      <td>1</td>\n",
              "      <td>1</td>\n",
              "      <td>Chips and Fresh Tomato Salsa</td>\n",
              "      <td>NaN</td>\n",
              "      <td>$2.39</td>\n",
              "    </tr>\n",
              "    <tr>\n",
              "      <th>1</th>\n",
              "      <td>1</td>\n",
              "      <td>1</td>\n",
              "      <td>Izze</td>\n",
              "      <td>[Clementine]</td>\n",
              "      <td>$3.39</td>\n",
              "    </tr>\n",
              "    <tr>\n",
              "      <th>2</th>\n",
              "      <td>1</td>\n",
              "      <td>1</td>\n",
              "      <td>Nantucket Nectar</td>\n",
              "      <td>[Apple]</td>\n",
              "      <td>$3.39</td>\n",
              "    </tr>\n",
              "    <tr>\n",
              "      <th>3</th>\n",
              "      <td>1</td>\n",
              "      <td>1</td>\n",
              "      <td>Chips and Tomatillo-Green Chili Salsa</td>\n",
              "      <td>NaN</td>\n",
              "      <td>$2.39</td>\n",
              "    </tr>\n",
              "    <tr>\n",
              "      <th>4</th>\n",
              "      <td>2</td>\n",
              "      <td>2</td>\n",
              "      <td>Chicken Bowl</td>\n",
              "      <td>[Tomatillo-Red Chili Salsa (Hot), [Black Beans...</td>\n",
              "      <td>$16.98</td>\n",
              "    </tr>\n",
              "    <tr>\n",
              "      <th>5</th>\n",
              "      <td>3</td>\n",
              "      <td>1</td>\n",
              "      <td>Chicken Bowl</td>\n",
              "      <td>[Fresh Tomato Salsa (Mild), [Rice, Cheese, Sou...</td>\n",
              "      <td>$10.98</td>\n",
              "    </tr>\n",
              "    <tr>\n",
              "      <th>6</th>\n",
              "      <td>3</td>\n",
              "      <td>1</td>\n",
              "      <td>Side of Chips</td>\n",
              "      <td>NaN</td>\n",
              "      <td>$1.69</td>\n",
              "    </tr>\n",
              "    <tr>\n",
              "      <th>7</th>\n",
              "      <td>4</td>\n",
              "      <td>1</td>\n",
              "      <td>Steak Burrito</td>\n",
              "      <td>[Tomatillo Red Chili Salsa, [Fajita Vegetables...</td>\n",
              "      <td>$11.75</td>\n",
              "    </tr>\n",
              "    <tr>\n",
              "      <th>8</th>\n",
              "      <td>4</td>\n",
              "      <td>1</td>\n",
              "      <td>Steak Soft Tacos</td>\n",
              "      <td>[Tomatillo Green Chili Salsa, [Pinto Beans, Ch...</td>\n",
              "      <td>$9.25</td>\n",
              "    </tr>\n",
              "    <tr>\n",
              "      <th>9</th>\n",
              "      <td>5</td>\n",
              "      <td>1</td>\n",
              "      <td>Steak Burrito</td>\n",
              "      <td>[Fresh Tomato Salsa, [Rice, Black Beans, Pinto...</td>\n",
              "      <td>$9.25</td>\n",
              "    </tr>\n",
              "    <tr>\n",
              "      <th>10</th>\n",
              "      <td>5</td>\n",
              "      <td>1</td>\n",
              "      <td>Chips and Guacamole</td>\n",
              "      <td>NaN</td>\n",
              "      <td>$4.45</td>\n",
              "    </tr>\n",
              "    <tr>\n",
              "      <th>11</th>\n",
              "      <td>6</td>\n",
              "      <td>1</td>\n",
              "      <td>Chicken Crispy Tacos</td>\n",
              "      <td>[Roasted Chili Corn Salsa, [Fajita Vegetables,...</td>\n",
              "      <td>$8.75</td>\n",
              "    </tr>\n",
              "    <tr>\n",
              "      <th>12</th>\n",
              "      <td>6</td>\n",
              "      <td>1</td>\n",
              "      <td>Chicken Soft Tacos</td>\n",
              "      <td>[Roasted Chili Corn Salsa, [Rice, Black Beans,...</td>\n",
              "      <td>$8.75</td>\n",
              "    </tr>\n",
              "    <tr>\n",
              "      <th>13</th>\n",
              "      <td>7</td>\n",
              "      <td>1</td>\n",
              "      <td>Chicken Bowl</td>\n",
              "      <td>[Fresh Tomato Salsa, [Fajita Vegetables, Rice,...</td>\n",
              "      <td>$11.25</td>\n",
              "    </tr>\n",
              "    <tr>\n",
              "      <th>14</th>\n",
              "      <td>7</td>\n",
              "      <td>1</td>\n",
              "      <td>Chips and Guacamole</td>\n",
              "      <td>NaN</td>\n",
              "      <td>$4.45</td>\n",
              "    </tr>\n",
              "    <tr>\n",
              "      <th>15</th>\n",
              "      <td>8</td>\n",
              "      <td>1</td>\n",
              "      <td>Chips and Tomatillo-Green Chili Salsa</td>\n",
              "      <td>NaN</td>\n",
              "      <td>$2.39</td>\n",
              "    </tr>\n",
              "    <tr>\n",
              "      <th>16</th>\n",
              "      <td>8</td>\n",
              "      <td>1</td>\n",
              "      <td>Chicken Burrito</td>\n",
              "      <td>[Tomatillo-Green Chili Salsa (Medium), [Pinto ...</td>\n",
              "      <td>$8.49</td>\n",
              "    </tr>\n",
              "    <tr>\n",
              "      <th>17</th>\n",
              "      <td>9</td>\n",
              "      <td>1</td>\n",
              "      <td>Chicken Burrito</td>\n",
              "      <td>[Fresh Tomato Salsa (Mild), [Black Beans, Rice...</td>\n",
              "      <td>$8.49</td>\n",
              "    </tr>\n",
              "    <tr>\n",
              "      <th>18</th>\n",
              "      <td>9</td>\n",
              "      <td>2</td>\n",
              "      <td>Canned Soda</td>\n",
              "      <td>[Sprite]</td>\n",
              "      <td>$2.18</td>\n",
              "    </tr>\n",
              "    <tr>\n",
              "      <th>19</th>\n",
              "      <td>10</td>\n",
              "      <td>1</td>\n",
              "      <td>Chicken Bowl</td>\n",
              "      <td>[Tomatillo Red Chili Salsa, [Fajita Vegetables...</td>\n",
              "      <td>$8.75</td>\n",
              "    </tr>\n",
              "  </tbody>\n",
              "</table>\n",
              "</div>\n",
              "    <div class=\"colab-df-buttons\">\n",
              "\n",
              "  <div class=\"colab-df-container\">\n",
              "    <button class=\"colab-df-convert\" onclick=\"convertToInteractive('df-149ba463-7397-4e3c-80c7-47c9009ebabb')\"\n",
              "            title=\"Convert this dataframe to an interactive table.\"\n",
              "            style=\"display:none;\">\n",
              "\n",
              "  <svg xmlns=\"http://www.w3.org/2000/svg\" height=\"24px\" viewBox=\"0 -960 960 960\">\n",
              "    <path d=\"M120-120v-720h720v720H120Zm60-500h600v-160H180v160Zm220 220h160v-160H400v160Zm0 220h160v-160H400v160ZM180-400h160v-160H180v160Zm440 0h160v-160H620v160ZM180-180h160v-160H180v160Zm440 0h160v-160H620v160Z\"/>\n",
              "  </svg>\n",
              "    </button>\n",
              "\n",
              "  <style>\n",
              "    .colab-df-container {\n",
              "      display:flex;\n",
              "      gap: 12px;\n",
              "    }\n",
              "\n",
              "    .colab-df-convert {\n",
              "      background-color: #E8F0FE;\n",
              "      border: none;\n",
              "      border-radius: 50%;\n",
              "      cursor: pointer;\n",
              "      display: none;\n",
              "      fill: #1967D2;\n",
              "      height: 32px;\n",
              "      padding: 0 0 0 0;\n",
              "      width: 32px;\n",
              "    }\n",
              "\n",
              "    .colab-df-convert:hover {\n",
              "      background-color: #E2EBFA;\n",
              "      box-shadow: 0px 1px 2px rgba(60, 64, 67, 0.3), 0px 1px 3px 1px rgba(60, 64, 67, 0.15);\n",
              "      fill: #174EA6;\n",
              "    }\n",
              "\n",
              "    .colab-df-buttons div {\n",
              "      margin-bottom: 4px;\n",
              "    }\n",
              "\n",
              "    [theme=dark] .colab-df-convert {\n",
              "      background-color: #3B4455;\n",
              "      fill: #D2E3FC;\n",
              "    }\n",
              "\n",
              "    [theme=dark] .colab-df-convert:hover {\n",
              "      background-color: #434B5C;\n",
              "      box-shadow: 0px 1px 3px 1px rgba(0, 0, 0, 0.15);\n",
              "      filter: drop-shadow(0px 1px 2px rgba(0, 0, 0, 0.3));\n",
              "      fill: #FFFFFF;\n",
              "    }\n",
              "  </style>\n",
              "\n",
              "    <script>\n",
              "      const buttonEl =\n",
              "        document.querySelector('#df-149ba463-7397-4e3c-80c7-47c9009ebabb button.colab-df-convert');\n",
              "      buttonEl.style.display =\n",
              "        google.colab.kernel.accessAllowed ? 'block' : 'none';\n",
              "\n",
              "      async function convertToInteractive(key) {\n",
              "        const element = document.querySelector('#df-149ba463-7397-4e3c-80c7-47c9009ebabb');\n",
              "        const dataTable =\n",
              "          await google.colab.kernel.invokeFunction('convertToInteractive',\n",
              "                                                    [key], {});\n",
              "        if (!dataTable) return;\n",
              "\n",
              "        const docLinkHtml = 'Like what you see? Visit the ' +\n",
              "          '<a target=\"_blank\" href=https://colab.research.google.com/notebooks/data_table.ipynb>data table notebook</a>'\n",
              "          + ' to learn more about interactive tables.';\n",
              "        element.innerHTML = '';\n",
              "        dataTable['output_type'] = 'display_data';\n",
              "        await google.colab.output.renderOutput(dataTable, element);\n",
              "        const docLink = document.createElement('div');\n",
              "        docLink.innerHTML = docLinkHtml;\n",
              "        element.appendChild(docLink);\n",
              "      }\n",
              "    </script>\n",
              "  </div>\n",
              "\n",
              "\n",
              "<div id=\"df-06cc9b2e-59f1-4c52-8571-58daee21900f\">\n",
              "  <button class=\"colab-df-quickchart\" onclick=\"quickchart('df-06cc9b2e-59f1-4c52-8571-58daee21900f')\"\n",
              "            title=\"Suggest charts\"\n",
              "            style=\"display:none;\">\n",
              "\n",
              "<svg xmlns=\"http://www.w3.org/2000/svg\" height=\"24px\"viewBox=\"0 0 24 24\"\n",
              "     width=\"24px\">\n",
              "    <g>\n",
              "        <path d=\"M19 3H5c-1.1 0-2 .9-2 2v14c0 1.1.9 2 2 2h14c1.1 0 2-.9 2-2V5c0-1.1-.9-2-2-2zM9 17H7v-7h2v7zm4 0h-2V7h2v10zm4 0h-2v-4h2v4z\"/>\n",
              "    </g>\n",
              "</svg>\n",
              "  </button>\n",
              "\n",
              "<style>\n",
              "  .colab-df-quickchart {\n",
              "      --bg-color: #E8F0FE;\n",
              "      --fill-color: #1967D2;\n",
              "      --hover-bg-color: #E2EBFA;\n",
              "      --hover-fill-color: #174EA6;\n",
              "      --disabled-fill-color: #AAA;\n",
              "      --disabled-bg-color: #DDD;\n",
              "  }\n",
              "\n",
              "  [theme=dark] .colab-df-quickchart {\n",
              "      --bg-color: #3B4455;\n",
              "      --fill-color: #D2E3FC;\n",
              "      --hover-bg-color: #434B5C;\n",
              "      --hover-fill-color: #FFFFFF;\n",
              "      --disabled-bg-color: #3B4455;\n",
              "      --disabled-fill-color: #666;\n",
              "  }\n",
              "\n",
              "  .colab-df-quickchart {\n",
              "    background-color: var(--bg-color);\n",
              "    border: none;\n",
              "    border-radius: 50%;\n",
              "    cursor: pointer;\n",
              "    display: none;\n",
              "    fill: var(--fill-color);\n",
              "    height: 32px;\n",
              "    padding: 0;\n",
              "    width: 32px;\n",
              "  }\n",
              "\n",
              "  .colab-df-quickchart:hover {\n",
              "    background-color: var(--hover-bg-color);\n",
              "    box-shadow: 0 1px 2px rgba(60, 64, 67, 0.3), 0 1px 3px 1px rgba(60, 64, 67, 0.15);\n",
              "    fill: var(--button-hover-fill-color);\n",
              "  }\n",
              "\n",
              "  .colab-df-quickchart-complete:disabled,\n",
              "  .colab-df-quickchart-complete:disabled:hover {\n",
              "    background-color: var(--disabled-bg-color);\n",
              "    fill: var(--disabled-fill-color);\n",
              "    box-shadow: none;\n",
              "  }\n",
              "\n",
              "  .colab-df-spinner {\n",
              "    border: 2px solid var(--fill-color);\n",
              "    border-color: transparent;\n",
              "    border-bottom-color: var(--fill-color);\n",
              "    animation:\n",
              "      spin 1s steps(1) infinite;\n",
              "  }\n",
              "\n",
              "  @keyframes spin {\n",
              "    0% {\n",
              "      border-color: transparent;\n",
              "      border-bottom-color: var(--fill-color);\n",
              "      border-left-color: var(--fill-color);\n",
              "    }\n",
              "    20% {\n",
              "      border-color: transparent;\n",
              "      border-left-color: var(--fill-color);\n",
              "      border-top-color: var(--fill-color);\n",
              "    }\n",
              "    30% {\n",
              "      border-color: transparent;\n",
              "      border-left-color: var(--fill-color);\n",
              "      border-top-color: var(--fill-color);\n",
              "      border-right-color: var(--fill-color);\n",
              "    }\n",
              "    40% {\n",
              "      border-color: transparent;\n",
              "      border-right-color: var(--fill-color);\n",
              "      border-top-color: var(--fill-color);\n",
              "    }\n",
              "    60% {\n",
              "      border-color: transparent;\n",
              "      border-right-color: var(--fill-color);\n",
              "    }\n",
              "    80% {\n",
              "      border-color: transparent;\n",
              "      border-right-color: var(--fill-color);\n",
              "      border-bottom-color: var(--fill-color);\n",
              "    }\n",
              "    90% {\n",
              "      border-color: transparent;\n",
              "      border-bottom-color: var(--fill-color);\n",
              "    }\n",
              "  }\n",
              "</style>\n",
              "\n",
              "  <script>\n",
              "    async function quickchart(key) {\n",
              "      const quickchartButtonEl =\n",
              "        document.querySelector('#' + key + ' button');\n",
              "      quickchartButtonEl.disabled = true;  // To prevent multiple clicks.\n",
              "      quickchartButtonEl.classList.add('colab-df-spinner');\n",
              "      try {\n",
              "        const charts = await google.colab.kernel.invokeFunction(\n",
              "            'suggestCharts', [key], {});\n",
              "      } catch (error) {\n",
              "        console.error('Error during call to suggestCharts:', error);\n",
              "      }\n",
              "      quickchartButtonEl.classList.remove('colab-df-spinner');\n",
              "      quickchartButtonEl.classList.add('colab-df-quickchart-complete');\n",
              "    }\n",
              "    (() => {\n",
              "      let quickchartButtonEl =\n",
              "        document.querySelector('#df-06cc9b2e-59f1-4c52-8571-58daee21900f button');\n",
              "      quickchartButtonEl.style.display =\n",
              "        google.colab.kernel.accessAllowed ? 'block' : 'none';\n",
              "    })();\n",
              "  </script>\n",
              "</div>\n",
              "\n",
              "    </div>\n",
              "  </div>\n"
            ],
            "application/vnd.google.colaboratory.intrinsic+json": {
              "type": "dataframe",
              "variable_name": "chipo",
              "summary": "{\n  \"name\": \"chipo\",\n  \"rows\": 4622,\n  \"fields\": [\n    {\n      \"column\": \"order_id\",\n      \"properties\": {\n        \"dtype\": \"number\",\n        \"std\": 528,\n        \"min\": 1,\n        \"max\": 1834,\n        \"num_unique_values\": 1834,\n        \"samples\": [\n          644,\n          333,\n          991\n        ],\n        \"semantic_type\": \"\",\n        \"description\": \"\"\n      }\n    },\n    {\n      \"column\": \"quantity\",\n      \"properties\": {\n        \"dtype\": \"number\",\n        \"std\": 0,\n        \"min\": 1,\n        \"max\": 15,\n        \"num_unique_values\": 9,\n        \"samples\": [\n          8,\n          2,\n          15\n        ],\n        \"semantic_type\": \"\",\n        \"description\": \"\"\n      }\n    },\n    {\n      \"column\": \"item_name\",\n      \"properties\": {\n        \"dtype\": \"category\",\n        \"num_unique_values\": 50,\n        \"samples\": [\n          \"Barbacoa Burrito\",\n          \"Crispy Tacos\",\n          \"Chips and Roasted Chili Corn Salsa\"\n        ],\n        \"semantic_type\": \"\",\n        \"description\": \"\"\n      }\n    },\n    {\n      \"column\": \"choice_description\",\n      \"properties\": {\n        \"dtype\": \"category\",\n        \"num_unique_values\": 1043,\n        \"samples\": [\n          \"[Roasted Chili Corn Salsa, [Black Beans, Sour Cream, Cheese, Guacamole]]\",\n          \"[Tomatillo Red Chili Salsa, [Guacamole, Cheese]]\",\n          \"[Fresh Tomato Salsa, [Rice, Cheese, Sour Cream, Guacamole, Lettuce]]\"\n        ],\n        \"semantic_type\": \"\",\n        \"description\": \"\"\n      }\n    },\n    {\n      \"column\": \"item_price\",\n      \"properties\": {\n        \"dtype\": \"category\",\n        \"num_unique_values\": 78,\n        \"samples\": [\n          \"$23.50 \",\n          \"$2.39 \",\n          \"$7.40 \"\n        ],\n        \"semantic_type\": \"\",\n        \"description\": \"\"\n      }\n    }\n  ]\n}"
            }
          },
          "metadata": {},
          "execution_count": 41
        }
      ],
      "source": [
        "url = 'https://raw.githubusercontent.com/justmarkham/DAT8/master/data/chipotle.tsv'\n",
        "\n",
        "chipo = pd.read_csv(url, sep = '\\t')\n",
        "chipo.head(20)"
      ]
    },
    {
      "cell_type": "code",
      "source": [
        "chipo.info()"
      ],
      "metadata": {
        "colab": {
          "base_uri": "https://localhost:8080/"
        },
        "id": "3aZoYDT-XxsG",
        "outputId": "4e2e9cca-4fd3-4e28-a275-a3b9d1619ccd"
      },
      "id": "3aZoYDT-XxsG",
      "execution_count": 42,
      "outputs": [
        {
          "output_type": "stream",
          "name": "stdout",
          "text": [
            "<class 'pandas.core.frame.DataFrame'>\n",
            "RangeIndex: 4622 entries, 0 to 4621\n",
            "Data columns (total 5 columns):\n",
            " #   Column              Non-Null Count  Dtype \n",
            "---  ------              --------------  ----- \n",
            " 0   order_id            4622 non-null   int64 \n",
            " 1   quantity            4622 non-null   int64 \n",
            " 2   item_name           4622 non-null   object\n",
            " 3   choice_description  3376 non-null   object\n",
            " 4   item_price          4622 non-null   object\n",
            "dtypes: int64(2), object(3)\n",
            "memory usage: 180.7+ KB\n"
          ]
        }
      ]
    },
    {
      "cell_type": "markdown",
      "source": [
        "Save into csv"
      ],
      "metadata": {
        "id": "oC4-Zpw6X5eI"
      },
      "id": "oC4-Zpw6X5eI"
    },
    {
      "cell_type": "code",
      "source": [
        "chipo.to_csv('chipo.csv',sep='\\t')"
      ],
      "metadata": {
        "id": "scjGPpItX48F"
      },
      "id": "scjGPpItX48F",
      "execution_count": 43,
      "outputs": []
    },
    {
      "cell_type": "markdown",
      "source": [
        "## References\n",
        "[1] Wes McKinney. “Data Structures for Statistical Computing in Python”. In: Proceedings of the 9th Python in Science Conference. Ed. by Stéfan van der Walt and Jarrod Millman. 2010, pp. 56–61. [DOI: 10.25080/Majora-92bf1922-00a](https://doi.org/10.25080/Majora-92bf1922-00a)\n",
        "\n",
        "[2] The pandas development team. pandas-dev/pandas: Pandas. Version latest. Feb. 2020. [DOI: 10.5281/zenodo.3509134](https://doi.org/10.5281/zenodo.3509134)\n",
        "\n",
        "Data science and Machine Learning for Engineering Applications\n",
        "\n",
        "\n",
        "[Lecture Notes PDF](https://dbdmg.polito.it/dbdmg_web/wp-content/uploads/2023/03/4-Pandas-lecture-notes.pdf)\n",
        "\n",
        "[Course Page](https://dbdmg.polito.it/dbdmg_web/2023/data-science-and-machine-learning-for-engineering-applications/)"
      ],
      "metadata": {
        "id": "DDMnMHfwWucP"
      },
      "id": "DDMnMHfwWucP"
    }
  ],
  "metadata": {
    "language_info": {
      "name": "python"
    },
    "colab": {
      "provenance": []
    },
    "kernelspec": {
      "name": "python3",
      "display_name": "Python 3"
    }
  },
  "nbformat": 4,
  "nbformat_minor": 5
}